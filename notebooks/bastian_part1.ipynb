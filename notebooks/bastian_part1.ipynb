{
 "cells": [
  {
   "cell_type": "code",
   "execution_count": 215,
   "metadata": {},
   "outputs": [],
   "source": [
    "import numpy as np\n",
    "import matplotlib.pyplot as plt\n",
    "import pandas as pd\n",
    "import seaborn as sns\n",
    "\n",
    "%matplotlib inline\n",
    "sns.set_theme(context=\"notebook\", style=\"darkgrid\", palette=\"deep\", font=\"sans-serif\", font_scale=1.2, color_codes=True, rc=None)"
   ]
  },
  {
   "cell_type": "markdown",
   "metadata": {},
   "source": [
    "## read data"
   ]
  },
  {
   "cell_type": "code",
   "execution_count": 237,
   "metadata": {},
   "outputs": [
    {
     "name": "stdout",
     "output_type": "stream",
     "text": [
      "    Date  GHI      SPG\n",
      "0  Jan 1    0 -1.90284\n",
      "1  Jan 1    0 -1.90284\n",
      "2  Jan 1    0 -1.90284\n",
      "3  Jan 1    0 -1.90284\n",
      "4  Jan 1    0 -1.90284\n",
      "\n",
      "New Layout:\n",
      "\n",
      "        Date  GHI      SPG\n",
      "0 2022-01-01    0 -1.90284\n",
      "1 2022-01-01    0 -1.90284\n",
      "2 2022-01-01    0 -1.90284\n",
      "3 2022-01-01    0 -1.90284\n",
      "4 2022-01-01    0 -1.90284\n"
     ]
    }
   ],
   "source": [
    "data = pd.read_csv('../results-GHI-SPG.csv', names=[\"Date\", \"GHI\", \"SPG\"], skiprows=1)\n",
    "data[\"Date\"] = data[\"Date\"].apply(lambda x: x.split(',')[0])\n",
    "print(data.head())\n",
    "month_number = {\n",
    "    \"Jan\": 1,\n",
    "    \"Feb\": 2,\n",
    "    \"Mar\": 3,\n",
    "    \"Apr\": 4,\n",
    "    \"May\": 5,\n",
    "    \"Jun\": 6,\n",
    "    \"Jul\": 7,\n",
    "    \"Aug\": 8,\n",
    "    \"Sep\": 9,\n",
    "    \"Oct\": 10,\n",
    "    \"Nov\": 11,\n",
    "    \"Dec\": 12\n",
    "}\n",
    "\n",
    "def convert_month(date):\n",
    "    assert type(date) == str, f\"Expected input of type str, but got {type(date)}\"\n",
    "    if \"-\" not in date:\n",
    "        month, day = date.split(' ')\n",
    "        if (month in month_number):\n",
    "            month = str(month_number[month])\n",
    "            if len(day) == 1:\n",
    "                day = f\"0{day}\"\n",
    "            if len(month) == 1:\n",
    "                month = f\"0{month}\"\n",
    "            # print(month)\n",
    "            return f\"2022-{month}-{day}\"\n",
    "    else:\n",
    "        return date\n",
    "    \n",
    "data[\"Date\"] = data[\"Date\"].apply(convert_month)\n",
    "data[\"Date\"] = pd.to_datetime(data[\"Date\"])\n",
    "print(\"\\nNew Layout:\\n\")\n",
    "print(data.head())"
   ]
  },
  {
   "cell_type": "code",
   "execution_count": 278,
   "metadata": {},
   "outputs": [
    {
     "data": {
      "text/html": [
       "<div>\n",
       "<style scoped>\n",
       "    .dataframe tbody tr th:only-of-type {\n",
       "        vertical-align: middle;\n",
       "    }\n",
       "\n",
       "    .dataframe tbody tr th {\n",
       "        vertical-align: top;\n",
       "    }\n",
       "\n",
       "    .dataframe thead th {\n",
       "        text-align: right;\n",
       "    }\n",
       "</style>\n",
       "<table border=\"1\" class=\"dataframe\">\n",
       "  <thead>\n",
       "    <tr style=\"text-align: right;\">\n",
       "      <th></th>\n",
       "      <th>Date</th>\n",
       "      <th>GHI</th>\n",
       "    </tr>\n",
       "  </thead>\n",
       "  <tbody>\n",
       "    <tr>\n",
       "      <th>0</th>\n",
       "      <td>1</td>\n",
       "      <td>6.674323</td>\n",
       "    </tr>\n",
       "    <tr>\n",
       "      <th>1</th>\n",
       "      <td>2</td>\n",
       "      <td>18.528000</td>\n",
       "    </tr>\n",
       "    <tr>\n",
       "      <th>2</th>\n",
       "      <td>3</td>\n",
       "      <td>52.107871</td>\n",
       "    </tr>\n",
       "    <tr>\n",
       "      <th>3</th>\n",
       "      <td>4</td>\n",
       "      <td>99.380000</td>\n",
       "    </tr>\n",
       "    <tr>\n",
       "      <th>4</th>\n",
       "      <td>5</td>\n",
       "      <td>123.760258</td>\n",
       "    </tr>\n",
       "    <tr>\n",
       "      <th>5</th>\n",
       "      <td>6</td>\n",
       "      <td>139.614400</td>\n",
       "    </tr>\n",
       "    <tr>\n",
       "      <th>6</th>\n",
       "      <td>7</td>\n",
       "      <td>127.208516</td>\n",
       "    </tr>\n",
       "    <tr>\n",
       "      <th>7</th>\n",
       "      <td>8</td>\n",
       "      <td>98.132129</td>\n",
       "    </tr>\n",
       "    <tr>\n",
       "      <th>8</th>\n",
       "      <td>9</td>\n",
       "      <td>69.137600</td>\n",
       "    </tr>\n",
       "    <tr>\n",
       "      <th>9</th>\n",
       "      <td>10</td>\n",
       "      <td>24.806710</td>\n",
       "    </tr>\n",
       "    <tr>\n",
       "      <th>10</th>\n",
       "      <td>11</td>\n",
       "      <td>8.770400</td>\n",
       "    </tr>\n",
       "    <tr>\n",
       "      <th>11</th>\n",
       "      <td>12</td>\n",
       "      <td>3.777290</td>\n",
       "    </tr>\n",
       "  </tbody>\n",
       "</table>\n",
       "</div>"
      ],
      "text/plain": [
       "    Date         GHI\n",
       "0      1    6.674323\n",
       "1      2   18.528000\n",
       "2      3   52.107871\n",
       "3      4   99.380000\n",
       "4      5  123.760258\n",
       "5      6  139.614400\n",
       "6      7  127.208516\n",
       "7      8   98.132129\n",
       "8      9   69.137600\n",
       "9     10   24.806710\n",
       "10    11    8.770400\n",
       "11    12    3.777290"
      ]
     },
     "execution_count": 278,
     "metadata": {},
     "output_type": "execute_result"
    }
   ],
   "source": [
    "GHI_month = data.groupby(data[\"Date\"].dt.month)[\"GHI\"].sum().reset_index()\n",
    "days_in_month = np.array([31, 28, 31, 30, 31, 30, 31, 31, 30, 31, 30, 31])\n",
    "GHI_month[\"GHI\"] = (GHI_month[\"GHI\"] * 24 / 1_000) / days_in_month\n",
    "GHI_month"
   ]
  },
  {
   "cell_type": "code",
   "execution_count": 334,
   "metadata": {},
   "outputs": [
    {
     "name": "stderr",
     "output_type": "stream",
     "text": [
      "<>:3: SyntaxWarning: invalid escape sequence '\\m'\n",
      "<>:3: SyntaxWarning: invalid escape sequence '\\m'\n",
      "C:\\Users\\basti\\AppData\\Local\\Temp\\ipykernel_8288\\1484665084.py:3: SyntaxWarning: invalid escape sequence '\\m'\n",
      "  ylabel=\"Daily average Horizontal insolation \\n $\\mathbf{H}\\quad \\\\left[\\\\left(\\\\frac{kWh}{m^2}\\\\right)/d\\\\right]$\", ax=ax, legend=None)\n"
     ]
    },
    {
     "ename": "SyntaxError",
     "evalue": "invalid syntax (1484665084.py, line 6)",
     "output_type": "error",
     "traceback": [
      "\u001b[1;36m  Cell \u001b[1;32mIn[334], line 6\u001b[1;36m\u001b[0m\n\u001b[1;33m    ax.set_xticklabels(xtick_label[1:11::2]);\u001b[0m\n\u001b[1;37m                                        ^\u001b[0m\n\u001b[1;31mSyntaxError\u001b[0m\u001b[1;31m:\u001b[0m invalid syntax\n"
     ]
    }
   ],
   "source": [
    "fig, ax = plt.subplots()\n",
    "GHI_month.plot(x=\"Date\", y=\"GHI\", xlabel=r\"Month\", \n",
    "               ylabel=\"Daily average Horizontal insolation \\n $\\mathbf{H}\\quad \\\\left[\\\\left(\\\\frac{kWh}{m^2}\\\\right)/d\\\\right]$\", ax=ax, legend=None)\n",
    "xtick_label = list(month_number.keys())\n",
    "# ax.set_xticks(range(1,13))\n",
    "ax.set_xticklabels(xtick_label[1:11::2]);"
   ]
  },
  {
   "cell_type": "code",
   "execution_count": null,
   "metadata": {},
   "outputs": [],
   "source": []
  }
 ],
 "metadata": {
  "kernelspec": {
   "display_name": "34552",
   "language": "python",
   "name": "python3"
  },
  "language_info": {
   "codemirror_mode": {
    "name": "ipython",
    "version": 3
   },
   "file_extension": ".py",
   "mimetype": "text/x-python",
   "name": "python",
   "nbconvert_exporter": "python",
   "pygments_lexer": "ipython3",
   "version": "3.12.1"
  }
 },
 "nbformat": 4,
 "nbformat_minor": 2
}
